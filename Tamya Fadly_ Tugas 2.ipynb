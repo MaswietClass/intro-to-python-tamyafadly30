{
 "cells": [
  {
   "cell_type": "code",
   "execution_count": 2,
   "metadata": {},
   "outputs": [
    {
     "name": "stdout",
     "output_type": "stream",
     "text": [
      "Masukkan Angka: 6\n",
      "Bilangan Genap\n"
     ]
    }
   ],
   "source": [
    "x = int(input(\"Masukkan Angka: \"))\n",
    "\n",
    "if x % 2== 0:\n",
    "    print(\"Bilangan Genap\")\n",
    "\n",
    "else :\n",
    "    print(\"Bilangan Ganjil\")"
   ]
  },
  {
   "cell_type": "code",
   "execution_count": null,
   "metadata": {},
   "outputs": [],
   "source": []
  }
 ],
 "metadata": {
  "kernelspec": {
   "display_name": "Python 3",
   "language": "python",
   "name": "python3"
  },
  "language_info": {
   "codemirror_mode": {
    "name": "ipython",
    "version": 3
   },
   "file_extension": ".py",
   "mimetype": "text/x-python",
   "name": "python",
   "nbconvert_exporter": "python",
   "pygments_lexer": "ipython3",
   "version": "3.7.2"
  }
 },
 "nbformat": 4,
 "nbformat_minor": 2
}
